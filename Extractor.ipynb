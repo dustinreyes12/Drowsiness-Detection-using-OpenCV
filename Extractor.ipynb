{
 "cells": [
  {
   "cell_type": "code",
   "execution_count": 4,
   "metadata": {
    "ExecuteTime": {
     "end_time": "2019-12-08T13:31:18.716628Z",
     "start_time": "2019-12-08T13:31:16.937370Z"
    }
   },
   "outputs": [],
   "source": [
    "# import zipfile\n",
    "\n",
    "# archive = zipfile.ZipFile('openRightEyes.zip')\n",
    "\n",
    "# dest = '/home/msds2020/dreyes/Machine Learning 2.0/Individual Project/Train_data3'\n",
    "# for file in archive.namelist():\n",
    "#     archive.extract(file, dest)"
   ]
  },
  {
   "cell_type": "code",
   "execution_count": 22,
   "metadata": {
    "ExecuteTime": {
     "end_time": "2019-12-08T13:52:58.587513Z",
     "start_time": "2019-12-08T13:52:58.545291Z"
    }
   },
   "outputs": [],
   "source": [
    "# from distutils.dir_util import copy_tree\n",
    "\n",
    "# # copy subdirectory example\n",
    "# path1 = '/home/msds2020/dreyes/Machine Learning 2.0/Individual Project/Train_data3/openLeftEyes'\n",
    "# path2 = '/home/msds2020/dreyes/Machine Learning 2.0/Individual Project/Train_data3/openRightEyes'\n",
    "# dest = '/home/msds2020/dreyes/Machine Learning 2.0/Individual Project/Train_data3/opened'\n",
    "# fromDirectory = path2\n",
    "# toDirectory = dest\n",
    "\n",
    "# copy_tree(fromDirectory, toDirectory)"
   ]
  },
  {
   "cell_type": "code",
   "execution_count": 51,
   "metadata": {
    "ExecuteTime": {
     "end_time": "2019-12-08T14:27:50.542576Z",
     "start_time": "2019-12-08T14:27:49.718654Z"
    }
   },
   "outputs": [],
   "source": [
    "# import shutil\n",
    "# shutil.rmtree('/home/msds2020/dreyes/Machine Learning 2.0/Individual Project/Train_data3/opened') "
   ]
  },
  {
   "cell_type": "code",
   "execution_count": 41,
   "metadata": {
    "ExecuteTime": {
     "end_time": "2019-12-08T14:19:45.120778Z",
     "start_time": "2019-12-08T14:19:44.206432Z"
    }
   },
   "outputs": [],
   "source": [
    "# import os\n",
    "# os.chdir('/home/msds2020/dreyes/Machine Learning 2.0/Individual Project/Train_data3/closed')\n",
    "# i=1\n",
    "# for file in os.listdir():\n",
    "#     src=file\n",
    "#     dst=\"closed.\"+str(i)+\".jpg\"\n",
    "#     os.rename(src,dst)\n",
    "#     i+=1"
   ]
  },
  {
   "cell_type": "code",
   "execution_count": 49,
   "metadata": {
    "ExecuteTime": {
     "end_time": "2019-12-08T14:26:55.587656Z",
     "start_time": "2019-12-08T14:26:55.529027Z"
    }
   },
   "outputs": [],
   "source": [
    "# path1 = '/home/msds2020/dreyes/Machine Learning 2.0/Individual Project/Train_data3/opened'\n",
    "# # path2 = '/home/msds2020/dreyes/Machine Learning 2.0/Individual Project/Train_data3/openRightEyes'\n",
    "# dest = '/home/msds2020/dreyes/Machine Learning 2.0/Individual Project/Train_data3'\n",
    "# fromDirectory = path1\n",
    "# toDirectory = dest\n",
    "\n",
    "# copy_tree(fromDirectory, toDirectory)"
   ]
  },
  {
   "cell_type": "code",
   "execution_count": null,
   "metadata": {},
   "outputs": [],
   "source": []
  }
 ],
 "metadata": {
  "kernelspec": {
   "display_name": "Python 3",
   "language": "python",
   "name": "python3"
  },
  "language_info": {
   "codemirror_mode": {
    "name": "ipython",
    "version": 3
   },
   "file_extension": ".py",
   "mimetype": "text/x-python",
   "name": "python",
   "nbconvert_exporter": "python",
   "pygments_lexer": "ipython3",
   "version": "3.7.3"
  }
 },
 "nbformat": 4,
 "nbformat_minor": 2
}
